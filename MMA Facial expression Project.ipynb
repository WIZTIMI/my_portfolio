{
 "cells": [
  {
   "cell_type": "markdown",
   "id": "17a8d897-75f6-4e66-88ae-21240ac3dc55",
   "metadata": {},
   "source": [
    "### project topic: build a facial recognition model"
   ]
  },
  {
   "cell_type": "code",
   "execution_count": 1,
   "id": "8d9f9215-2f6b-4102-bfd5-7bda47fcdc81",
   "metadata": {},
   "outputs": [],
   "source": [
    "%matplotlib inline"
   ]
  },
  {
   "cell_type": "code",
   "execution_count": 2,
   "id": "5965a093-363f-4fa9-9ec2-f98ce90e07e8",
   "metadata": {},
   "outputs": [],
   "source": [
    "import numpy as np\n",
    "import matplotlib.pyplot as plt\n",
    "import cv2\n",
    "import os"
   ]
  },
  {
   "cell_type": "code",
   "execution_count": 3,
   "id": "52feddfa-b70d-4fb7-b005-af173a9fac4e",
   "metadata": {},
   "outputs": [],
   "source": [
    "surprise_folder = \"//Mac/Home/Downloads/archive (5)/MMAFEDB/train/surprise\"\n",
    "sad_folder = \"//Mac/Home/Downloads/archive (5)/MMAFEDB/train/sad\"\n",
    "neutral_folder = \"//Mac/Home/Downloads/archive (5)/MMAFEDB/train/neutral\"\n",
    "happy_folder = \"//Mac/Home/Downloads/archive (5)/MMAFEDB/train/happy\"\n",
    "fear_folder = \"//Mac/Home/Downloads/archive (5)/MMAFEDB/train/fear\"\n",
    "disgust_folder = \"//Mac/Home/Downloads/archive (5)/MMAFEDB/train/disgust\"\n",
    "angry_folder = \"//Mac/Home/Downloads/archive (5)/MMAFEDB/train/angry\""
   ]
  },
  {
   "cell_type": "code",
   "execution_count": 4,
   "id": "630270e5-d59a-42e0-b0c9-8556c6bd4589",
   "metadata": {},
   "outputs": [],
   "source": [
    "#os.listdir(surprise_folder)"
   ]
  },
  {
   "cell_type": "code",
   "execution_count": 5,
   "id": "21254c9f-2278-4c0f-87a9-c9cac9794abf",
   "metadata": {},
   "outputs": [],
   "source": [
    "#for filename in os.listdir(surprise_folder):\n",
    "   # img_path = os.path.join(surprise_folder,filename)\n",
    "    #print (img_path)"
   ]
  },
  {
   "cell_type": "code",
   "execution_count": 6,
   "id": "bf86349a-e769-4779-a04e-d46fe19b29fe",
   "metadata": {},
   "outputs": [],
   "source": [
    "def load_data(folder,label,img_size =(65,65)):\n",
    "    images=[]\n",
    "    labels = []\n",
    "    for filename in os.listdir(folder):\n",
    "        img_path = os.path.join(folder,filename)\n",
    "        img_read = cv2.imread(img_path, cv2.IMREAD_GRAYSCALE)\n",
    "        img_resize = cv2.resize(img_read, img_size)\n",
    "        img_flattened = img_resize.flatten()\n",
    "        images.append(img_flattened)\n",
    "        labels.append(label)\n",
    "    return images,labels"
   ]
  },
  {
   "cell_type": "code",
   "execution_count": 7,
   "id": "c374a508-4551-49d5-ba82-b4d5c0c4f3be",
   "metadata": {},
   "outputs": [],
   "source": [
    "surprise_images, surprise_labels = load_data(surprise_folder, 0)\n",
    "sad_images, sad_labels = load_data(sad_folder, 1)\n",
    "neutral_images, neutral_labels = load_data(neutral_folder, 2)\n",
    "happy_images, happy_labels = load_data(happy_folder, 3)\n",
    "fear_images, fear_labels = load_data(fear_folder, 4)\n",
    "disgust_images, disgust_labels = load_data(disgust_folder, 5)\n",
    "angry_images, angry_labels = load_data(angry_folder, 6)\n"
   ]
  },
  {
   "cell_type": "code",
   "execution_count": 8,
   "id": "919f2f86-0950-4c97-a217-2cb272a3629a",
   "metadata": {},
   "outputs": [],
   "source": [
    "X = np.array(surprise_images + sad_images + neutral_images + happy_images + fear_images + disgust_images + angry_images)\n",
    "Y = np.array ( surprise_labels + sad_labels + neutral_labels + happy_labels + fear_labels + disgust_labels + angry_labels)"
   ]
  },
  {
   "cell_type": "code",
   "execution_count": 9,
   "id": "84b01000-07ef-4cd4-aa8b-8b49318fc6be",
   "metadata": {},
   "outputs": [],
   "source": [
    "from sklearn.model_selection import train_test_split"
   ]
  },
  {
   "cell_type": "code",
   "execution_count": 10,
   "id": "17e77fc3-8c70-47cd-83b8-9675492336b0",
   "metadata": {},
   "outputs": [
    {
     "name": "stdout",
     "output_type": "stream",
     "text": [
      "(92968, 4225)\n"
     ]
    }
   ],
   "source": [
    "print(X.shape)"
   ]
  },
  {
   "cell_type": "code",
   "execution_count": 11,
   "id": "bab12130-cc72-4952-9c60-6039e163e560",
   "metadata": {},
   "outputs": [
    {
     "name": "stdout",
     "output_type": "stream",
     "text": [
      "(92968,)\n"
     ]
    }
   ],
   "source": [
    "print(Y.shape)"
   ]
  },
  {
   "cell_type": "code",
   "execution_count": 12,
   "id": "d4830f80-6b8b-4451-9bf6-34fa190ec825",
   "metadata": {},
   "outputs": [
    {
     "data": {
      "text/plain": [
       "(92968, 4225)"
      ]
     },
     "execution_count": 12,
     "metadata": {},
     "output_type": "execute_result"
    }
   ],
   "source": [
    "X.shape"
   ]
  },
  {
   "cell_type": "code",
   "execution_count": 13,
   "id": "0c34a8c5-7f94-4456-a344-e7f88aca49af",
   "metadata": {},
   "outputs": [],
   "source": [
    "x_train,x_test,y_train,y_test= train_test_split(X,Y,random_state=20, test_size =0.2)"
   ]
  },
  {
   "cell_type": "code",
   "execution_count": 14,
   "id": "c5204b5b-d8fb-405c-b477-eb6a3d9e005d",
   "metadata": {},
   "outputs": [],
   "source": [
    "from sklearn.svm import SVC"
   ]
  },
  {
   "cell_type": "code",
   "execution_count": 15,
   "id": "92eb9243-68fc-474f-9580-ae5944b7e3b3",
   "metadata": {},
   "outputs": [],
   "source": [
    "svm = SVC(random_state= 10)"
   ]
  },
  {
   "cell_type": "code",
   "execution_count": null,
   "id": "435d2dad-ac4f-441a-a559-739f073364ec",
   "metadata": {},
   "outputs": [],
   "source": [
    "svm.fit(x_train,y_train)"
   ]
  },
  {
   "cell_type": "code",
   "execution_count": null,
   "id": "d42c55d4-acbf-468f-b718-72cd25dcb56c",
   "metadata": {},
   "outputs": [],
   "source": [
    "from sklearn.metrics import classification_report"
   ]
  },
  {
   "cell_type": "code",
   "execution_count": null,
   "id": "b86ef13a-ada6-40ca-a164-c8880d83431f",
   "metadata": {},
   "outputs": [],
   "source": [
    "predicted_values = svm.predict(x_test)"
   ]
  },
  {
   "cell_type": "code",
   "execution_count": null,
   "id": "33dc80a4-1b27-47f0-b5bf-dd63eb86e951",
   "metadata": {},
   "outputs": [],
   "source": [
    "print(classification_report(y_test,predicted_values))"
   ]
  },
  {
   "cell_type": "code",
   "execution_count": null,
   "id": "b020adb0-2e63-4899-9bbd-dee9b2c14a16",
   "metadata": {},
   "outputs": [],
   "source": []
  }
 ],
 "metadata": {
  "kernelspec": {
   "display_name": "Python 3 (ipykernel)",
   "language": "python",
   "name": "python3"
  },
  "language_info": {
   "codemirror_mode": {
    "name": "ipython",
    "version": 3
   },
   "file_extension": ".py",
   "mimetype": "text/x-python",
   "name": "python",
   "nbconvert_exporter": "python",
   "pygments_lexer": "ipython3",
   "version": "3.12.4"
  }
 },
 "nbformat": 4,
 "nbformat_minor": 5
}
