{
 "cells": [
  {
   "cell_type": "code",
   "execution_count": 1,
   "id": "ddccbc78-7d0f-4da6-8bcc-fcb5c7e32c3c",
   "metadata": {},
   "outputs": [],
   "source": [
    "import pandas as pd"
   ]
  },
  {
   "cell_type": "code",
   "execution_count": 2,
   "id": "82600aaa-6359-494e-9a1b-71048f584466",
   "metadata": {},
   "outputs": [],
   "source": [
    "employee_details = pd.DataFrame({\n",
    "    \"firstName\": [\"John\", \"Dayo\", \"Chika\"],\n",
    "    \"lastName\" : [\"Johnson\", \"Seyi\", \"Kingsley\"],\n",
    "    \"Age\": [25, 32, 19],\n",
    "    \"department\": [\"Sales\", \"IT\", \"Editorial\"]\n",
    "})"
   ]
  },
  {
   "cell_type": "code",
   "execution_count": null,
   "id": "a3ce8a46-d297-4410-a987-4d9e693d6871",
   "metadata": {},
   "outputs": [],
   "source": []
  },
  {
   "cell_type": "code",
   "execution_count": 3,
   "id": "f5d5c13c-1f97-469c-830f-dac03a396828",
   "metadata": {},
   "outputs": [],
   "source": [
    "details = {\n",
    "    \"firstName\": [\"John\", \"Dayo\", \"Chika\"],\n",
    "    \"lastName\" : [\"Johnson\", \"Seyi\", \"Kingsley\"],\n",
    "    \"Age\": [25, 32, 19],\n",
    "    \"department\": [\"Sales\", \"IT\", \"Editorial\"]\n",
    "}"
   ]
  },
  {
   "cell_type": "code",
   "execution_count": null,
   "id": "33ea0323-5949-4b6f-8aa3-a2acec224bb0",
   "metadata": {},
   "outputs": [],
   "source": []
  },
  {
   "cell_type": "code",
   "execution_count": 4,
   "id": "b409fdbd-57b9-444b-b906-254fa75a7d19",
   "metadata": {},
   "outputs": [],
   "source": [
    "# Fetch all records from the created datafram above"
   ]
  },
  {
   "cell_type": "code",
   "execution_count": null,
   "id": "0a3a86e8-123c-4cc6-be93-e22be057ad06",
   "metadata": {},
   "outputs": [],
   "source": []
  },
  {
   "cell_type": "code",
   "execution_count": 5,
   "id": "ce983642-1e1b-47bf-9731-8c7fff140cbe",
   "metadata": {},
   "outputs": [],
   "source": [
    "# Fetch out every record in the  using .loc"
   ]
  },
  {
   "cell_type": "code",
   "execution_count": null,
   "id": "6a237eb7-bfe8-46cd-a00e-b5f958e795a5",
   "metadata": {},
   "outputs": [],
   "source": []
  },
  {
   "cell_type": "code",
   "execution_count": null,
   "id": "bb9f4a75-415c-498b-a767-c90ae42d571b",
   "metadata": {},
   "outputs": [],
   "source": []
  },
  {
   "cell_type": "code",
   "execution_count": null,
   "id": "95579cbd-b6bf-4c0f-b371-748c712321c2",
   "metadata": {},
   "outputs": [],
   "source": []
  },
  {
   "cell_type": "code",
   "execution_count": null,
   "id": "2d2a8344-f8b0-482d-a135-6576f40dc308",
   "metadata": {},
   "outputs": [],
   "source": []
  },
  {
   "cell_type": "code",
   "execution_count": 6,
   "id": "4e3e1958-1f8a-4891-a745-0ca89e0dad3f",
   "metadata": {},
   "outputs": [],
   "source": [
    "#call out the fisrtname colum using.loc\n",
    "\n"
   ]
  },
  {
   "cell_type": "code",
   "execution_count": null,
   "id": "8b50239c-2dca-420f-817c-9e94b03c1020",
   "metadata": {},
   "outputs": [],
   "source": []
  },
  {
   "cell_type": "code",
   "execution_count": null,
   "id": "fb3603eb-d7f9-46a4-93c7-beac37095e5e",
   "metadata": {},
   "outputs": [],
   "source": []
  },
  {
   "cell_type": "code",
   "execution_count": 7,
   "id": "5dcae9e7-e56b-4cd9-92ba-20b7e46f940c",
   "metadata": {},
   "outputs": [],
   "source": [
    "# print the \"firstName\",\"Age and deparment column from the dataframe"
   ]
  },
  {
   "cell_type": "code",
   "execution_count": null,
   "id": "136c5dd4-231a-46f2-8ec2-2cf003fa8c0a",
   "metadata": {},
   "outputs": [],
   "source": []
  },
  {
   "cell_type": "code",
   "execution_count": null,
   "id": "6f176828-2be9-4c94-92da-b8243df6f69a",
   "metadata": {},
   "outputs": [],
   "source": []
  },
  {
   "cell_type": "code",
   "execution_count": null,
   "id": "0da5183b-9af2-4016-9a66-6a4687698ffb",
   "metadata": {},
   "outputs": [],
   "source": []
  },
  {
   "cell_type": "code",
   "execution_count": 8,
   "id": "a00d7562-8f51-4fd0-b44d-7cf7ffff3d68",
   "metadata": {},
   "outputs": [],
   "source": [
    "# Fetch the last record of all the column names from the dataframe"
   ]
  },
  {
   "cell_type": "code",
   "execution_count": null,
   "id": "45a7214d-1350-4c07-9108-8328799ffa95",
   "metadata": {},
   "outputs": [],
   "source": []
  },
  {
   "cell_type": "code",
   "execution_count": null,
   "id": "296dcf7e-002a-42eb-b1b5-9d2f1af806fa",
   "metadata": {},
   "outputs": [],
   "source": []
  },
  {
   "cell_type": "code",
   "execution_count": 9,
   "id": "b4c49816-30d0-4a9a-b917-5352c9edf196",
   "metadata": {},
   "outputs": [],
   "source": [
    "# Find where employee age is above 30"
   ]
  },
  {
   "cell_type": "code",
   "execution_count": null,
   "id": "d24e96b7-2a95-4aa9-b7e2-c5cf99552720",
   "metadata": {},
   "outputs": [],
   "source": []
  },
  {
   "cell_type": "code",
   "execution_count": null,
   "id": "0076e089-a01f-441e-89a4-9a2e68b8688d",
   "metadata": {},
   "outputs": [],
   "source": []
  },
  {
   "cell_type": "code",
   "execution_count": 10,
   "id": "3da855b8-9ec6-4c09-97c8-73e0854c8499",
   "metadata": {},
   "outputs": [],
   "source": [
    "# Fetch employee that their age is above 20"
   ]
  },
  {
   "cell_type": "code",
   "execution_count": null,
   "id": "7695ca0e-b92a-4149-b519-d7301fd1f51c",
   "metadata": {},
   "outputs": [],
   "source": []
  },
  {
   "cell_type": "code",
   "execution_count": null,
   "id": "9a12ea0a-d436-46b5-b47c-e965b0684602",
   "metadata": {},
   "outputs": [],
   "source": []
  },
  {
   "cell_type": "code",
   "execution_count": 11,
   "id": "97e66c6a-aa7e-485f-b9ac-a2f2f4eb7903",
   "metadata": {},
   "outputs": [],
   "source": [
    "# Employee that work in the sales department"
   ]
  },
  {
   "cell_type": "code",
   "execution_count": null,
   "id": "dcf97ff6-052b-4b2a-9c03-990220d09196",
   "metadata": {},
   "outputs": [],
   "source": []
  },
  {
   "cell_type": "code",
   "execution_count": null,
   "id": "9952484b-1426-4cbe-b100-d2a02890b87e",
   "metadata": {},
   "outputs": [],
   "source": []
  },
  {
   "cell_type": "code",
   "execution_count": 12,
   "id": "6bc04399-5322-4f6e-a374-d50040d58cf4",
   "metadata": {},
   "outputs": [],
   "source": [
    "# Employee that their age is above 20 and they work in the sales department"
   ]
  },
  {
   "cell_type": "code",
   "execution_count": null,
   "id": "af61044d-d045-4bc8-83de-6ad91afcdad2",
   "metadata": {},
   "outputs": [],
   "source": []
  },
  {
   "cell_type": "code",
   "execution_count": null,
   "id": "371a0a93-f984-4b0a-bf7e-e3e9ca093398",
   "metadata": {},
   "outputs": [],
   "source": []
  },
  {
   "cell_type": "code",
   "execution_count": 16,
   "id": "884c1ff4-b2f6-468d-9561-404f72b0c967",
   "metadata": {},
   "outputs": [],
   "source": [
    "# Add a new empty column to the table \n"
   ]
  },
  {
   "cell_type": "code",
   "execution_count": null,
   "id": "39666b4d-e3fd-4f2b-b8e4-4d84c0e22509",
   "metadata": {},
   "outputs": [],
   "source": []
  },
  {
   "cell_type": "code",
   "execution_count": 17,
   "id": "dd709732-bc70-4ad8-8c82-26c0e39f2721",
   "metadata": {},
   "outputs": [],
   "source": [
    "# Add a new column to the table and insert the values"
   ]
  },
  {
   "cell_type": "code",
   "execution_count": null,
   "id": "4c82182a-4c1e-49df-a4ed-4f54a4abfc38",
   "metadata": {},
   "outputs": [],
   "source": []
  },
  {
   "cell_type": "code",
   "execution_count": null,
   "id": "7f2f5153-c4a9-404a-947f-3ac6503303ce",
   "metadata": {},
   "outputs": [],
   "source": []
  },
  {
   "cell_type": "code",
   "execution_count": null,
   "id": "3ad56b86-9116-4de5-88f5-f51f155a0635",
   "metadata": {},
   "outputs": [],
   "source": []
  },
  {
   "cell_type": "code",
   "execution_count": null,
   "id": "ca0a8735-1a46-4987-9160-4a83bc00bb93",
   "metadata": {},
   "outputs": [],
   "source": []
  },
  {
   "cell_type": "code",
   "execution_count": null,
   "id": "5ae7cf1e-ef21-492f-ad8d-38d2a4944ad1",
   "metadata": {},
   "outputs": [],
   "source": []
  },
  {
   "cell_type": "code",
   "execution_count": null,
   "id": "4affbdff-ed6f-4119-ab88-cdbc208e1e62",
   "metadata": {},
   "outputs": [],
   "source": []
  }
 ],
 "metadata": {
  "kernelspec": {
   "display_name": "Python (myenv)",
   "language": "python",
   "name": "myenv"
  },
  "language_info": {
   "codemirror_mode": {
    "name": "ipython",
    "version": 3
   },
   "file_extension": ".py",
   "mimetype": "text/x-python",
   "name": "python",
   "nbconvert_exporter": "python",
   "pygments_lexer": "ipython3",
   "version": "3.11.9"
  }
 },
 "nbformat": 4,
 "nbformat_minor": 5
}
